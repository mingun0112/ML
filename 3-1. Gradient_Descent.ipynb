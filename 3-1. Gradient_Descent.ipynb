{
  "nbformat": 4,
  "nbformat_minor": 0,
  "metadata": {
    "colab": {
      "name": "3-1. Gradient Descent",
      "provenance": [],
      "include_colab_link": true
    },
    "kernelspec": {
      "name": "python3",
      "display_name": "Python 3"
    },
    "language_info": {
      "name": "python"
    }
  },
  "cells": [
    {
      "cell_type": "markdown",
      "metadata": {
        "id": "view-in-github",
        "colab_type": "text"
      },
      "source": [
        "<a href=\"https://colab.research.google.com/github/mingun0112/ML/blob/main/3-1.%20Gradient_Descent.ipynb\" target=\"_parent\"><img src=\"https://colab.research.google.com/assets/colab-badge.svg\" alt=\"Open In Colab\"/></a>"
      ]
    },
    {
      "cell_type": "code",
      "execution_count": null,
      "metadata": {
        "id": "f6MpzpujX72c"
      },
      "outputs": [],
      "source": [
        "import pandas as pd\n",
        "fish = pd.read_csv(\"http://bit.ly/fish_csv_data\")"
      ]
    },
    {
      "cell_type": "markdown",
      "source": [
        "#Gradient Descent\n",
        "경상하강법\n",
        "최적화 알고리즘"
      ],
      "metadata": {
        "id": "LIJwAz6_kA8_"
      }
    },
    {
      "cell_type": "code",
      "source": [
        ""
      ],
      "metadata": {
        "id": "830_CynFkAnq"
      },
      "execution_count": null,
      "outputs": []
    }
  ]
}